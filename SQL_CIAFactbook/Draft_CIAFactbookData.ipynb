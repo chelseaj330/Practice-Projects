{
 "cells": [
  {
   "cell_type": "code",
   "execution_count": 1,
   "metadata": {},
   "outputs": [
    {
     "name": "stdout",
     "output_type": "stream",
     "text": [
      "Collecting package metadata (current_repodata.json): done\n",
      "Solving environment: done\n",
      "\n",
      "\n",
      "==> WARNING: A newer version of conda exists. <==\n",
      "  current version: 4.8.3\n",
      "  latest version: 4.9.2\n",
      "\n",
      "Please update conda by running\n",
      "\n",
      "    $ conda update -n base -c defaults conda\n",
      "\n",
      "\n",
      "\n",
      "## Package Plan ##\n",
      "\n",
      "  environment location: /opt/anaconda3\n",
      "\n",
      "  added / updated specs:\n",
      "    - ipython-sql\n",
      "\n",
      "\n",
      "The following packages will be downloaded:\n",
      "\n",
      "    package                    |            build\n",
      "    ---------------------------|-----------------\n",
      "    conda-4.9.2                |   py38h50d1736_0         3.1 MB  conda-forge\n",
      "    ipython-sql-0.3.9          |py38h32f6830_1002          27 KB  conda-forge\n",
      "    prettytable-2.0.0          |     pyhd8ed1ab_0          22 KB  conda-forge\n",
      "    python_abi-3.8             |           1_cp38           4 KB  conda-forge\n",
      "    sqlparse-0.4.1             |     pyh9f0ad1d_0          34 KB  conda-forge\n",
      "    ------------------------------------------------------------\n",
      "                                           Total:         3.2 MB\n",
      "\n",
      "The following NEW packages will be INSTALLED:\n",
      "\n",
      "  ipython-sql        conda-forge/osx-64::ipython-sql-0.3.9-py38h32f6830_1002\n",
      "  prettytable        conda-forge/noarch::prettytable-2.0.0-pyhd8ed1ab_0\n",
      "  python_abi         conda-forge/osx-64::python_abi-3.8-1_cp38\n",
      "  sqlparse           conda-forge/noarch::sqlparse-0.4.1-pyh9f0ad1d_0\n",
      "\n",
      "The following packages will be UPDATED:\n",
      "\n",
      "  conda                       pkgs/main::conda-4.8.3-py38_0 --> conda-forge::conda-4.9.2-py38h50d1736_0\n",
      "\n",
      "\n",
      "\n",
      "Downloading and Extracting Packages\n",
      "python_abi-3.8       | 4 KB      | ##################################### | 100% \n",
      "conda-4.9.2          | 3.1 MB    | ##################################### | 100% \n",
      "prettytable-2.0.0    | 22 KB     | ##################################### | 100% \n",
      "ipython-sql-0.3.9    | 27 KB     | ##################################### | 100% \n",
      "sqlparse-0.4.1       | 34 KB     | ##################################### | 100% \n",
      "Preparing transaction: done\n",
      "Verifying transaction: - WARNING conda.core.path_actions:verify(962): Unable to create environments file. Path not writable.\n",
      "  environment location: /Users/chelseajones/.conda/environments.txt\n",
      "\n",
      "done\n",
      "Executing transaction: done\n"
     ]
    }
   ],
   "source": [
    "!conda install -yc conda-forge ipython-sql"
   ]
  },
  {
   "cell_type": "code",
   "execution_count": 3,
   "metadata": {},
   "outputs": [
    {
     "name": "stdout",
     "output_type": "stream",
     "text": [
      "Collecting package metadata (current_repodata.json): done\n",
      "Solving environment: done\n",
      "\n",
      "## Package Plan ##\n",
      "\n",
      "  environment location: /opt/anaconda3\n",
      "\n",
      "  added / updated specs:\n",
      "    - conda\n",
      "\n",
      "\n",
      "The following packages will be downloaded:\n",
      "\n",
      "    package                    |            build\n",
      "    ---------------------------|-----------------\n",
      "    backports.functools_lru_cache-1.6.1|     pyhd3eb1b0_0          12 KB\n",
      "    conda-4.9.2                |   py38hecd8cb5_0         2.9 MB\n",
      "    conda-package-handling-1.7.2|   py38h22f3db7_0         1.5 MB\n",
      "    sqlparse-0.4.1             |             py_0          35 KB\n",
      "    ------------------------------------------------------------\n",
      "                                           Total:         4.4 MB\n",
      "\n",
      "The following packages will be UPDATED:\n",
      "\n",
      "  conda-package-han~                   1.6.1-py38h1de35cc_0 --> 1.7.2-py38h22f3db7_0\n",
      "\n",
      "The following packages will be SUPERSEDED by a higher-priority channel:\n",
      "\n",
      "  conda              conda-forge::conda-4.9.2-py38h50d1736~ --> pkgs/main::conda-4.9.2-py38hecd8cb5_0\n",
      "  sqlparse           conda-forge::sqlparse-0.4.1-pyh9f0ad1~ --> pkgs/main::sqlparse-0.4.1-py_0\n",
      "\n",
      "The following packages will be DOWNGRADED:\n",
      "\n",
      "  backports.functoo~                             1.6.1-py_0 --> 1.6.1-pyhd3eb1b0_0\n",
      "\n",
      "\n",
      "Proceed ([y]/n)? ^C\n",
      "\n",
      "CondaSystemExit: \n",
      "Operation aborted.  Exiting.\n",
      "\n"
     ]
    }
   ],
   "source": [
    "!conda update -n base -c defaults conda"
   ]
  },
  {
   "cell_type": "code",
   "execution_count": null,
   "metadata": {},
   "outputs": [],
   "source": [
    "[y]"
   ]
  },
  {
   "cell_type": "code",
   "execution_count": 5,
   "metadata": {},
   "outputs": [
    {
     "name": "stdout",
     "output_type": "stream",
     "text": [
      "Collecting package metadata (current_repodata.json): done\n",
      "Solving environment: done\n",
      "\n",
      "# All requested packages already installed.\n",
      "\n"
     ]
    }
   ],
   "source": [
    "!conda install -yc conda-forge ipython-sql"
   ]
  },
  {
   "cell_type": "code",
   "execution_count": 10,
   "metadata": {},
   "outputs": [],
   "source": [
    "%%capture\n",
    "%load_ext sql\n",
    "%sql sqlite:///factbook.db"
   ]
  },
  {
   "cell_type": "code",
   "execution_count": null,
   "metadata": {},
   "outputs": [],
   "source": []
  }
 ],
 "metadata": {
  "kernelspec": {
   "display_name": "Python 3",
   "language": "python",
   "name": "python3"
  },
  "language_info": {
   "codemirror_mode": {
    "name": "ipython",
    "version": 3
   },
   "file_extension": ".py",
   "mimetype": "text/x-python",
   "name": "python",
   "nbconvert_exporter": "python",
   "pygments_lexer": "ipython3",
   "version": "3.8.3"
  }
 },
 "nbformat": 4,
 "nbformat_minor": 4
}
